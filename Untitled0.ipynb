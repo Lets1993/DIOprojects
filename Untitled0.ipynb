{
  "nbformat": 4,
  "nbformat_minor": 0,
  "metadata": {
    "colab": {
      "provenance": [],
      "authorship_tag": "ABX9TyM4uCKWO65QUYZ/1CMRgvsy",
      "include_colab_link": true
    },
    "kernelspec": {
      "name": "python3",
      "display_name": "Python 3"
    },
    "language_info": {
      "name": "python"
    }
  },
  "cells": [
    {
      "cell_type": "markdown",
      "metadata": {
        "id": "view-in-github",
        "colab_type": "text"
      },
      "source": [
        "<a href=\"https://colab.research.google.com/github/Lets1993/DIOprojects/blob/main/Untitled0.ipynb\" target=\"_parent\"><img src=\"https://colab.research.google.com/assets/colab-badge.svg\" alt=\"Open In Colab\"/></a>"
      ]
    },
    {
      "cell_type": "code",
      "execution_count": 1,
      "metadata": {
        "colab": {
          "base_uri": "https://localhost:8080/"
        },
        "id": "JOhDddSWjlmD",
        "outputId": "336a094b-21d7-4865-c014-a4eb55cc838a"
      },
      "outputs": [
        {
          "name": "stdout",
          "output_type": "stream",
          "text": [
            "Escolha uma operação:\n",
            "1. Somar\n",
            "2. Subtrair\n",
            "3. Multiplicar\n",
            "4. Dividir\n",
            "5. Sair\n",
            "Digite o número da operação desejada: 1\n",
            "Digite o primeiro número: 7\n",
            "Digite o segundo número: 4\n",
            "Resultado: 11\n",
            "Escolha uma operação:\n",
            "1. Somar\n",
            "2. Subtrair\n",
            "3. Multiplicar\n",
            "4. Dividir\n",
            "5. Sair\n",
            "Digite o número da operação desejada: 5\n"
          ]
        }
      ],
      "source": [
        "def somar(a, b):\n",
        "    return a + b\n",
        "\n",
        "def subtrair(a, b):\n",
        "    return a - b\n",
        "\n",
        "def multiplicar(a, b):\n",
        "    return a * b\n",
        "\n",
        "def dividir(a, b):\n",
        "    return a / b\n",
        "\n",
        "while True:\n",
        "    print(\"Escolha uma operação:\")\n",
        "    print(\"1. Somar\")\n",
        "    print(\"2. Subtrair\")\n",
        "    print(\"3. Multiplicar\")\n",
        "    print(\"4. Dividir\")\n",
        "    print(\"5. Sair\")\n",
        "    escolha = input(\"Digite o número da operação desejada: \")\n",
        "\n",
        "    if escolha == '5':\n",
        "        break\n",
        "\n",
        "    if escolha in ('1', '2', '3', '4'):\n",
        "        a = int(input(\"Digite o primeiro número: \"))\n",
        "        b = int(input(\"Digite o segundo número: \"))\n",
        "\n",
        "        if escolha == '1':\n",
        "            resultado = somar(a, b)\n",
        "        elif escolha == '2':\n",
        "            resultado = subtrair(a, b)\n",
        "        elif escolha == '3':\n",
        "            resultado = multiplicar(a, b)\n",
        "        elif escolha == '4':\n",
        "            resultado = dividir(a, b)\n",
        "\n",
        "        print(\"Resultado:\", resultado)\n",
        "    else:\n",
        "        print(\"Opção inválida. Tente novamente.\")\n"
      ]
    }
  ]
}